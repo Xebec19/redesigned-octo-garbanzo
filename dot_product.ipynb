{
  "nbformat": 4,
  "nbformat_minor": 0,
  "metadata": {
    "colab": {
      "provenance": [],
      "authorship_tag": "ABX9TyO1ggq3b1kiIx3fyA+NXs7U",
      "include_colab_link": true
    },
    "kernelspec": {
      "name": "python3",
      "display_name": "Python 3"
    },
    "language_info": {
      "name": "python"
    }
  },
  "cells": [
    {
      "cell_type": "markdown",
      "metadata": {
        "id": "view-in-github",
        "colab_type": "text"
      },
      "source": [
        "<a href=\"https://colab.research.google.com/github/Xebec19/redesigned-octo-garbanzo/blob/main/dot_product.ipynb\" target=\"_parent\"><img src=\"https://colab.research.google.com/assets/colab-badge.svg\" alt=\"Open In Colab\"/></a>"
      ]
    },
    {
      "cell_type": "code",
      "execution_count": 1,
      "metadata": {
        "id": "GtxbEzdN6Pjl"
      },
      "outputs": [],
      "source": [
        "import numpy as np"
      ]
    },
    {
      "cell_type": "code",
      "source": [
        "X = [0,1]\n",
        "w1 = [2,3]\n",
        "w2 = [0.4,1.8]"
      ],
      "metadata": {
        "id": "pSOffHHm6kWm"
      },
      "execution_count": 3,
      "outputs": []
    },
    {
      "cell_type": "code",
      "source": [
        "dot_X_w1 = X[0] * w1[0] + X[1] * w1[1]\n",
        "dot_X_w2 = X[0] * w2[0] + X[1] * w2[1]\n",
        "\n",
        "print(dot_X_w1)"
      ],
      "metadata": {
        "colab": {
          "base_uri": "https://localhost:8080/"
        },
        "id": "u_0pd9cx618V",
        "outputId": "0bacdb83-e1f7-407a-898d-a200ed5dd4c9"
      },
      "execution_count": 6,
      "outputs": [
        {
          "output_type": "stream",
          "name": "stdout",
          "text": [
            "3\n"
          ]
        }
      ]
    },
    {
      "cell_type": "code",
      "source": [
        "np.dot(X,w1)"
      ],
      "metadata": {
        "colab": {
          "base_uri": "https://localhost:8080/"
        },
        "id": "N5eqOmc87M5a",
        "outputId": "3dda713a-3074-4806-c519-fd9b8caa73f9"
      },
      "execution_count": 7,
      "outputs": [
        {
          "output_type": "execute_result",
          "data": {
            "text/plain": [
              "3"
            ]
          },
          "metadata": {},
          "execution_count": 7
        }
      ]
    },
    {
      "cell_type": "code",
      "source": [
        "np.dot(X,w2)"
      ],
      "metadata": {
        "colab": {
          "base_uri": "https://localhost:8080/"
        },
        "id": "vXHxcUW-8R_x",
        "outputId": "cb39f095-49b5-49a5-a00b-c8ab5298d756"
      },
      "execution_count": 8,
      "outputs": [
        {
          "output_type": "execute_result",
          "data": {
            "text/plain": [
              "1.8"
            ]
          },
          "metadata": {},
          "execution_count": 8
        }
      ]
    },
    {
      "cell_type": "code",
      "source": [],
      "metadata": {
        "id": "Z8F0MENT8Vnr"
      },
      "execution_count": null,
      "outputs": []
    }
  ]
}